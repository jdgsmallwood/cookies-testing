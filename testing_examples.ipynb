{
 "cells": [
  {
   "cell_type": "markdown",
   "id": "dbe5d3f3-4866-477f-bd16-ac4dc123eb38",
   "metadata": {},
   "source": [
    "# Cookies & Code - Testing!"
   ]
  },
  {
   "cell_type": "code",
   "execution_count": 1,
   "id": "5a31881d-9a05-4cff-b516-92584f4bc789",
   "metadata": {},
   "outputs": [],
   "source": [
    "# This needs to be at the beginning of any notebook using ipytest.\n",
    "import ipytest\n",
    "ipytest.autoconfig()"
   ]
  },
  {
   "cell_type": "markdown",
   "id": "a7123727-34c2-4d5e-a29f-e12538f91ff0",
   "metadata": {},
   "source": [
    "## Example Set 1 "
   ]
  },
  {
   "cell_type": "markdown",
   "id": "771df029-8cbd-4ca2-ac40-584648ec096b",
   "metadata": {},
   "source": [
    "A test is just a function with some assert statement. If this assert statement results in a true statement - the test passes! If it results in a failure, or an error occurs, the test will fail.\n",
    "\n",
    "Here are a couple of examples:"
   ]
  },
  {
   "cell_type": "code",
   "execution_count": 53,
   "id": "4d0b62ad-d347-403c-8f3c-1462dbdcca20",
   "metadata": {},
   "outputs": [
    {
     "name": "stdout",
     "output_type": "stream",
     "text": [
      "\u001b[32m.\u001b[0m\u001b[32m                                                                                            [100%]\u001b[0m\n"
     ]
    }
   ],
   "source": [
    "%%ipytest -qq\n",
    "# The above magic is what will cause the tests to actually run!\n",
    "# What happens if you remove it?\n",
    "\n",
    "def test_example():\n",
    "    assert [1, 2, 3] == [1, 2, 3]"
   ]
  },
  {
   "cell_type": "code",
   "execution_count": 54,
   "id": "657d19ed-7d60-4d82-9aac-8998ed1fe9c4",
   "metadata": {},
   "outputs": [
    {
     "name": "stdout",
     "output_type": "stream",
     "text": [
      "\u001b[31mF\u001b[0m\u001b[31m                                                                                            [100%]\u001b[0m\n",
      "============================================= FAILURES =============================================\n",
      "\u001b[31m\u001b[1m__________________________________________ test_will_fail __________________________________________\u001b[0m\n",
      "\n",
      "    \u001b[0m\u001b[94mdef\u001b[39;49;00m\u001b[90m \u001b[39;49;00m\u001b[92mtest_will_fail\u001b[39;49;00m():\u001b[90m\u001b[39;49;00m\n",
      ">       \u001b[94massert\u001b[39;49;00m \u001b[94mFalse\u001b[39;49;00m\u001b[90m\u001b[39;49;00m\n",
      "\u001b[1m\u001b[31mE       assert False\u001b[0m\n",
      "\n",
      "\u001b[1m\u001b[31m/var/folders/vv/d9ncb4ms2x1gl0mmkrvk8m7c0000gp/T/ipykernel_64744/2664154573.py\u001b[0m:2: AssertionError\n",
      "\u001b[36m\u001b[1m===================================== short test summary info ======================================\u001b[0m\n",
      "\u001b[31mFAILED\u001b[0m t_6651fbd894764815bb8c2b5f3a5d5116.py::\u001b[1mtest_will_fail\u001b[0m - assert False\n"
     ]
    }
   ],
   "source": [
    "%%ipytest -qq\n",
    "\n",
    "def test_will_fail():\n",
    "    assert False"
   ]
  },
  {
   "cell_type": "code",
   "execution_count": 55,
   "id": "84eff09f-aee4-400d-87ed-db11f6e30cba",
   "metadata": {},
   "outputs": [
    {
     "name": "stdout",
     "output_type": "stream",
     "text": [
      "\n"
     ]
    }
   ],
   "source": [
    "%%ipytest -qq\n",
    "\n",
    "def this_test_will_not_run():\n",
    "    assert False"
   ]
  },
  {
   "cell_type": "markdown",
   "id": "74d359f0-1df0-45e5-9a0e-75c37d32caff",
   "metadata": {},
   "source": [
    "Let's look at a slightly more interesting use case. We have a function \"example_func\" and we want to write some unit tests for it. \n",
    "\n",
    "Try running the tests. They should fail! Can you fix them?"
   ]
  },
  {
   "cell_type": "code",
   "execution_count": 4,
   "id": "5761f59f-f9b5-4955-b6b3-ac833c4fd7fd",
   "metadata": {},
   "outputs": [],
   "source": [
    "def example_func(x: int, y: int) -> int:\n",
    "    return x + y"
   ]
  },
  {
   "cell_type": "code",
   "execution_count": 52,
   "id": "1090d310-a721-4614-a60b-d1ce7f4ba6f4",
   "metadata": {},
   "outputs": [
    {
     "name": "stdout",
     "output_type": "stream",
     "text": [
      "\u001b[32m.\u001b[0m\u001b[32m.\u001b[0m\u001b[31mF\u001b[0m\u001b[31mF\u001b[0m\u001b[31m                                                                                         [100%]\u001b[0m\n",
      "============================================= FAILURES =============================================\n",
      "\u001b[31m\u001b[1m__________________________________ test_example_func_failing_test __________________________________\u001b[0m\n",
      "\n",
      "    \u001b[0m\u001b[94mdef\u001b[39;49;00m\u001b[90m \u001b[39;49;00m\u001b[92mtest_example_func_failing_test\u001b[39;49;00m():\u001b[90m\u001b[39;49;00m\n",
      "        \u001b[90m## This test fails! Can you fix it?\u001b[39;49;00m\u001b[90m\u001b[39;49;00m\n",
      "    \u001b[90m\u001b[39;49;00m\n",
      "        \u001b[90m## Arrange\u001b[39;49;00m\u001b[90m\u001b[39;49;00m\n",
      "        x = \u001b[94m20\u001b[39;49;00m\u001b[90m\u001b[39;49;00m\n",
      "        y = \u001b[94m15\u001b[39;49;00m\u001b[90m\u001b[39;49;00m\n",
      "    \u001b[90m\u001b[39;49;00m\n",
      "        \u001b[90m## Act\u001b[39;49;00m\u001b[90m\u001b[39;49;00m\n",
      "        output = example_func(x, y)\u001b[90m\u001b[39;49;00m\n",
      "    \u001b[90m\u001b[39;49;00m\n",
      "        \u001b[90m## Assert\u001b[39;49;00m\u001b[90m\u001b[39;49;00m\n",
      ">       \u001b[94massert\u001b[39;49;00m output == \u001b[94m20\u001b[39;49;00m\u001b[90m\u001b[39;49;00m\n",
      "\u001b[1m\u001b[31mE       assert 35 == 20\u001b[0m\n",
      "\n",
      "\u001b[1m\u001b[31m/var/folders/vv/d9ncb4ms2x1gl0mmkrvk8m7c0000gp/T/ipykernel_64744/4040631578.py\u001b[0m:29: AssertionError\n",
      "\u001b[31m\u001b[1m________________________________ test_example_func_fails_with_none _________________________________\u001b[0m\n",
      "\n",
      "    \u001b[0m\u001b[94mdef\u001b[39;49;00m\u001b[90m \u001b[39;49;00m\u001b[92mtest_example_func_fails_with_none\u001b[39;49;00m():\u001b[90m\u001b[39;49;00m\n",
      "        \u001b[90m## This test fails! What is the problem?\u001b[39;49;00m\u001b[90m\u001b[39;49;00m\n",
      "    \u001b[90m\u001b[39;49;00m\n",
      "        \u001b[90m## Arrange\u001b[39;49;00m\u001b[90m\u001b[39;49;00m\n",
      "        x = \u001b[94mNone\u001b[39;49;00m\u001b[90m\u001b[39;49;00m\n",
      "        y = \u001b[94m2\u001b[39;49;00m\u001b[90m\u001b[39;49;00m\n",
      "    \u001b[90m\u001b[39;49;00m\n",
      "        \u001b[90m## Act & Assert\u001b[39;49;00m\u001b[90m\u001b[39;49;00m\n",
      "        \u001b[94mwith\u001b[39;49;00m pytest.raises(\u001b[96mValueError\u001b[39;49;00m):\u001b[90m\u001b[39;49;00m\n",
      ">           output = example_func(x, y)\u001b[90m\u001b[39;49;00m\n",
      "\n",
      "\u001b[1m\u001b[31m/var/folders/vv/d9ncb4ms2x1gl0mmkrvk8m7c0000gp/T/ipykernel_64744/4040631578.py\u001b[0m:40: \n",
      "_ _ _ _ _ _ _ _ _ _ _ _ _ _ _ _ _ _ _ _ _ _ _ _ _ _ _ _ _ _ _ _ _ _ _ _ _ _ _ _ _ _ _ _ _ _ _ _ _ _ \n",
      "\n",
      "x = None, y = 2\n",
      "\n",
      "    \u001b[0m\u001b[94mdef\u001b[39;49;00m\u001b[90m \u001b[39;49;00m\u001b[92mexample_func\u001b[39;49;00m(x, y):\u001b[90m\u001b[39;49;00m\n",
      ">       \u001b[94mreturn\u001b[39;49;00m x + y\u001b[90m\u001b[39;49;00m\n",
      "\u001b[1m\u001b[31mE       TypeError: unsupported operand type(s) for +: 'NoneType' and 'int'\u001b[0m\n",
      "\n",
      "\u001b[1m\u001b[31m/var/folders/vv/d9ncb4ms2x1gl0mmkrvk8m7c0000gp/T/ipykernel_64744/3118815404.py\u001b[0m:2: TypeError\n",
      "\u001b[36m\u001b[1m===================================== short test summary info ======================================\u001b[0m\n",
      "\u001b[31mFAILED\u001b[0m t_6651fbd894764815bb8c2b5f3a5d5116.py::\u001b[1mtest_example_func_failing_test\u001b[0m - assert 35 == 20\n",
      "\u001b[31mFAILED\u001b[0m t_6651fbd894764815bb8c2b5f3a5d5116.py::\u001b[1mtest_example_func_fails_with_none\u001b[0m - TypeError: unsupported operand type(s) for +: 'NoneType' and 'int'\n"
     ]
    }
   ],
   "source": [
    "%%ipytest -qq\n",
    "\n",
    "def test_example():\n",
    "    assert [1, 2, 3] == [1, 2, 3]\n",
    "\n",
    "def test_example_func():\n",
    "    ## Arrange\n",
    "    x = 10\n",
    "    y = 15\n",
    "\n",
    "    ## Act\n",
    "    output = example_func(x,  y)\n",
    "\n",
    "    ## Assert\n",
    "    assert output == 25\n",
    "\n",
    "def test_example_func_failing_test():\n",
    "    ## This test fails! Can you fix it?\n",
    "    ## NB: Requires changing 1 line.\n",
    "\n",
    "    ## Arrange\n",
    "    x = 20\n",
    "    y = 15\n",
    "\n",
    "    ## Act\n",
    "    output = example_func(x, y)\n",
    "\n",
    "    ## Assert\n",
    "    assert output == 20\n",
    "\n",
    "def test_example_func_fails_with_none():\n",
    "    ## This test fails! What is the problem?\n",
    "    ## NB: Requires changing 1 line.\n",
    "    \n",
    "    ## Arrange\n",
    "    x = None\n",
    "    y = 2\n",
    "\n",
    "    ## Act & Assert\n",
    "    with pytest.raises(ValueError):\n",
    "        output = example_func(x, y)\n",
    "\n",
    "    \n",
    "    "
   ]
  },
  {
   "cell_type": "code",
   "execution_count": null,
   "id": "4c92663c-392c-4e3e-b7dd-fdc7bf0afbd8",
   "metadata": {},
   "outputs": [],
   "source": []
  },
  {
   "cell_type": "markdown",
   "id": "4f9c5878-3190-4199-bf65-d4f409237c58",
   "metadata": {},
   "source": [
    "## Example 2\n",
    "\n",
    "This tests a function that is made up of one public function and two private functions.\n",
    "\n",
    "If we change from implementation 1 to implementation 2 - what happens to the tests?\n",
    "\n",
    "What can we learn from this?"
   ]
  },
  {
   "cell_type": "code",
   "execution_count": 13,
   "id": "9754d610-5f46-47c0-b278-cd7b37b73282",
   "metadata": {},
   "outputs": [],
   "source": [
    "def _second_step(x: int, y: int) -> int:\n",
    "    return x * y\n",
    "\n",
    "def _first_step(x: int, y: int) -> int:\n",
    "    return x + y\n",
    "\n",
    "## Implementation One\n",
    "def two_step_example(x: int, y: int) -> int:\n",
    "    z = _first_step(x, y)\n",
    "    z2 = _second_step(z, y)\n",
    "    return z2\n",
    "\n",
    "## Implementation Two\n",
    "## Uncomment this and comment Implementation One when you're ready.\n",
    "# def two_step_example(x: int, y: int) -> int:\n",
    "#     z = x + y\n",
    "#     z2 = z * y\n",
    "#     return z2\n"
   ]
  },
  {
   "cell_type": "code",
   "execution_count": null,
   "id": "c83729c5-d78c-46ea-8c25-2f67c16fb261",
   "metadata": {},
   "outputs": [],
   "source": []
  },
  {
   "cell_type": "code",
   "execution_count": 20,
   "id": "1a450c3e-8745-4605-a43d-36bd5ad7d3fd",
   "metadata": {},
   "outputs": [
    {
     "name": "stdout",
     "output_type": "stream",
     "text": [
      "\u001b[32m.\u001b[0m\u001b[32m.\u001b[0m\u001b[32m.\u001b[0m\u001b[32m                                                                                          [100%]\u001b[0m\n"
     ]
    }
   ],
   "source": [
    "%%ipytest -qq\n",
    "\n",
    "def test_example():\n",
    "    ## Arrange\n",
    "    x = 2\n",
    "    y = 5\n",
    "    \n",
    "    ## Run\n",
    "    output = two_step_example(x, y)\n",
    "\n",
    "    ## Assert\n",
    "    assert output == 35\n",
    "\n",
    "def test_example_first_step():\n",
    "    ## Arrange\n",
    "    x = 2\n",
    "    y = 5\n",
    "\n",
    "    ## Run\n",
    "    output = _first_step(x, y)\n",
    "\n",
    "    ## Assert\n",
    "    assert output == 7\n",
    "\n",
    "def test_example_second_step():\n",
    "    ## Arrange\n",
    "    x = 2\n",
    "    y = 5\n",
    "\n",
    "    ## Run \n",
    "    output = _second_step(x, y)\n",
    "\n",
    "    ## Assert\n",
    "    assert output == 10\n",
    "\n"
   ]
  },
  {
   "cell_type": "markdown",
   "id": "b3da4c78-c7ec-4636-89bc-bc8e73e1d4ce",
   "metadata": {},
   "source": [
    "What's wrong with the above?\n",
    "\n",
    "The tests are coupled to the implementation!"
   ]
  },
  {
   "cell_type": "markdown",
   "id": "0f575a4f-b546-4789-ad5e-c87ec5c571a4",
   "metadata": {},
   "source": [
    "# Fancy things - to look at in your own time\n",
    "\n",
    "## pytest.mark.parameterize\n",
    "\n",
    "Allows the same test function to run for many input / output pairs.\n"
   ]
  },
  {
   "cell_type": "code",
   "execution_count": 21,
   "id": "429008df-b9dc-4956-9867-5f888b75913a",
   "metadata": {},
   "outputs": [],
   "source": [
    "def square_number(x: int) -> int:\n",
    "    return x ** 2"
   ]
  },
  {
   "cell_type": "code",
   "execution_count": 25,
   "id": "633631ef-c0b7-4c89-960e-279cd9cfb048",
   "metadata": {},
   "outputs": [
    {
     "name": "stdout",
     "output_type": "stream",
     "text": [
      "\u001b[32m.\u001b[0m\u001b[32m.\u001b[0m\u001b[32m.\u001b[0m\u001b[32m                                                                                          [100%]\u001b[0m\n"
     ]
    }
   ],
   "source": [
    "%%ipytest -qq\n",
    "import pytest\n",
    "\n",
    "@pytest.mark.parametrize(\"input_num,expected_output\", [\n",
    "    (2, 4), (-2, 4), (8, 64)\n",
    "])\n",
    "def test_square_number(input_num, expected_output):\n",
    "    ## Arrange\n",
    "    ## Nothing to do here\n",
    "\n",
    "    ## Act\n",
    "    output = square_number(input_num)\n",
    "\n",
    "    ## Assert\n",
    "    assert output == expected_output"
   ]
  },
  {
   "cell_type": "markdown",
   "id": "5d964765-2ca7-4e76-bd7f-0af7444fb5d7",
   "metadata": {},
   "source": [
    "## Fixtures\n",
    "\n",
    "Allow re-use of setup objects that you use again and again - for instance reading an input file. Here's an example from pycodif."
   ]
  },
  {
   "cell_type": "code",
   "execution_count": null,
   "id": "a7c76cdc-e209-45ea-86e6-f2c9df273b97",
   "metadata": {},
   "outputs": [],
   "source": [
    "## Just for an example - this won't run.\n",
    "## The \"example_frame\" code is executed before each test\n",
    "## and the output passed in the \"example_frame\" argument.\n",
    "class TestCODIFFrame:\n",
    "\n",
    "    @pytest.fixture()\n",
    "    def example_frame(self):\n",
    "        with open(\"tests/test_files/test_codif.codif\", \"rb\") as f:\n",
    "            codif = CODIFFrame(f)\n",
    "        return codif\n",
    "\n",
    "    def test_data_parsing(self, example_frame):\n",
    "        assert hasattr(example_frame, \"header\")\n",
    "        assert hasattr(example_frame, \"data_array\")\n",
    "        assert hasattr(example_frame, \"sample_timestamps\")\n",
    "\n",
    "    def test_data_values(self, example_frame):\n",
    "        assert isinstance(example_frame.data_array, np.ndarray)\n",
    "        assert example_frame.data_array.dtype == np.dtype(\"complex64\")\n",
    "        assert example_frame.data_array[0, 0] == -23 + 45j\n",
    "        assert example_frame.data_array[0, -1] == 113 - 89j\n",
    "        assert example_frame.data_array[-1, 0] == 45j\n",
    "        assert example_frame.data_array[-1, -1] == -43 + 58j"
   ]
  },
  {
   "cell_type": "markdown",
   "id": "0ba9215d-b371-4bec-b0b1-63ffb0f73db1",
   "metadata": {},
   "source": [
    "## Example 3 - Refactoring\n",
    "\n",
    "I have some code below that reads in some data from a file, and constructs some Star objects with some characteristics."
   ]
  },
  {
   "cell_type": "code",
   "execution_count": 31,
   "id": "2e5fe242-14a9-4570-a936-b585e827a55b",
   "metadata": {},
   "outputs": [],
   "source": [
    "import csv\n",
    "from typing import List\n",
    "\n",
    "class Star:\n",
    "    def __init__(self, name: str, distance: float, luminosity: float):\n",
    "        self.name = name\n",
    "        self.distance = distance\n",
    "        self.luminosity = luminosity\n",
    "\n",
    "def process_astronomy_data(filename: str) -> List[Star]:\n",
    "    \"\"\"\n",
    "    Reads a CSV file of star data and returns a list of Star objects.\n",
    "\n",
    "    Args:\n",
    "        filename (str): Path to the CSV file containing star data.\n",
    "    \n",
    "    Returns:\n",
    "        List[Star]: A list of Star objects created from the CSV file.\n",
    "    \"\"\"\n",
    "    stars = []\n",
    "    with open(filename, newline='') as csvfile:\n",
    "        reader = csv.DictReader(csvfile)\n",
    "        for row in reader:\n",
    "            name = row['Name']\n",
    "            distance = float(row['Distance'])\n",
    "            luminosity = float(row['Luminosity'])\n",
    "            star = Star(name, distance, luminosity)\n",
    "            stars.append(star)\n",
    "    \n",
    "    return stars\n",
    "\n"
   ]
  },
  {
   "cell_type": "markdown",
   "id": "816d5517-93fe-48bf-85f5-d365897b6ea1",
   "metadata": {},
   "source": [
    "What makes testing the above function hard?"
   ]
  },
  {
   "cell_type": "code",
   "execution_count": 41,
   "id": "88de72d5-fec1-4246-998b-dd8d6135a6b6",
   "metadata": {},
   "outputs": [],
   "source": [
    "### Refactored version\n",
    "\n",
    "from typing import List, Dict\n",
    "\n",
    "def read_star_data(filename: str) -> List[Dict[str, str]]:\n",
    "    \"\"\"\n",
    "    Reads a CSV file and returns the data as a list of dictionaries.\n",
    "    \n",
    "    Args:\n",
    "        filename (str): Path to the CSV file containing star data.\n",
    "    \n",
    "    Returns:\n",
    "        List[Dict[str, str]]: The raw data from the CSV as a list of dictionaries.\n",
    "    \"\"\"\n",
    "    with open(filename, newline='') as csvfile:\n",
    "        reader = csv.DictReader(csvfile)\n",
    "        return [row for row in reader]\n",
    "\n",
    "def create_star_objects(data: List[Dict[str, str]]) -> List[Star]:\n",
    "    \"\"\"\n",
    "    Converts raw star data into Star objects.\n",
    "    \n",
    "    Args:\n",
    "        data (List[Dict[str, str]]): Raw data containing star information.\n",
    "    \n",
    "    Returns:\n",
    "        List[Star]: A list of Star objects created from the raw data.\n",
    "    \"\"\"\n",
    "    stars = []\n",
    "    for row in data:\n",
    "        name = row['Name']\n",
    "        distance = float(row['Distance'])\n",
    "        luminosity = float(row['Luminosity'])\n",
    "        star = Star(name, distance, luminosity)\n",
    "        stars.append(star)\n",
    "    return stars\n",
    "\n",
    "def process_astronomy_data(filename: str) -> List[Star]:\n",
    "    \"\"\"\n",
    "    Processes the astronomy data by reading and creating Star objects.\n",
    "    \n",
    "    Args:\n",
    "        filename (str): Path to the CSV file containing star data.\n",
    "    \n",
    "    Returns:\n",
    "        List[Star]: A list of Star objects.\n",
    "    \"\"\"\n",
    "    raw_data = read_star_data(filename)\n",
    "    return create_star_objects(raw_data)"
   ]
  },
  {
   "cell_type": "code",
   "execution_count": 56,
   "id": "eeb2b115-20e7-4b2e-89e5-aca5ba8b54e9",
   "metadata": {},
   "outputs": [
    {
     "name": "stdout",
     "output_type": "stream",
     "text": [
      "\u001b[32m.\u001b[0m\u001b[31mF\u001b[0m\u001b[31m                                                                                           [100%]\u001b[0m\n",
      "============================================= FAILURES =============================================\n",
      "\u001b[31m\u001b[1m___________________________________ test_process_astronomy_data ____________________________________\u001b[0m\n",
      "\n",
      "    \u001b[0m\u001b[94mdef\u001b[39;49;00m\u001b[90m \u001b[39;49;00m\u001b[92mtest_process_astronomy_data\u001b[39;49;00m():\u001b[90m\u001b[39;49;00m\n",
      "        \u001b[90m# This test fails. Can you use the debugger to figure out why?\u001b[39;49;00m\u001b[90m\u001b[39;49;00m\n",
      "        stars = process_astronomy_data(\u001b[33m\"\u001b[39;49;00m\u001b[33mfake_data.csv\u001b[39;49;00m\u001b[33m\"\u001b[39;49;00m)\u001b[90m\u001b[39;49;00m\n",
      ">       \u001b[94massert\u001b[39;49;00m \u001b[96mlen\u001b[39;49;00m(stars) == \u001b[94m2\u001b[39;49;00m\u001b[90m\u001b[39;49;00m\n",
      "\u001b[1m\u001b[31mE       assert 0 == 2\u001b[0m\n",
      "\u001b[1m\u001b[31mE        +  where 0 = len([])\u001b[0m\n",
      "\n",
      "\u001b[1m\u001b[31m/var/folders/vv/d9ncb4ms2x1gl0mmkrvk8m7c0000gp/T/ipykernel_64744/702681110.py\u001b[0m:25: AssertionError\n",
      "\u001b[36m\u001b[1m===================================== short test summary info ======================================\u001b[0m\n",
      "\u001b[31mFAILED\u001b[0m t_6651fbd894764815bb8c2b5f3a5d5116.py::\u001b[1mtest_process_astronomy_data\u001b[0m - assert 0 == 2\n"
     ]
    }
   ],
   "source": [
    "%%ipytest -qq\n",
    "from unittest.mock import patch, mock_open\n",
    "\n",
    "sample_data = [\n",
    "    {\"Name\": \"Star A\", \"Distance\": \"10\", \"Luminosity\": \"1000\"},\n",
    "    {\"Name\": \"Star B\", \"Distance\": \"20\", \"Luminosity\": \"2000\"}\n",
    "]\n",
    "\n",
    "@pytest.mark.parametrize(\"data,expected_stars\", [\n",
    "    (sample_data, [\n",
    "        Star(\"Star A\", 10.0, 1000.0),\n",
    "        Star(\"Star B\", 20.0, 2000.0)\n",
    "    ])\n",
    "])\n",
    "def test_create_star_objects(data, expected_stars):\n",
    "    stars = create_star_objects(data)\n",
    "    for star, expected_star in zip(stars, expected_stars):\n",
    "        assert star.name == expected_star.name\n",
    "        assert star.distance == expected_star.distance\n",
    "        assert star.luminosity == expected_star.luminosity\n",
    "\n",
    "# Using a dummy file to test data ingestion.\n",
    "def test_process_astronomy_data():\n",
    "    # This test fails. Can you use the debugger to figure out why?\n",
    "    stars = process_astronomy_data(\"fake_data.csv\")\n",
    "    assert len(stars) == 2\n",
    "    assert stars[0].name == \"Star A\"\n",
    "    assert stars[1].name == \"Star B\"\n",
    "\n",
    "\n",
    "    "
   ]
  },
  {
   "cell_type": "code",
   "execution_count": null,
   "id": "40eee207-3991-4a66-a6d5-0f515605f166",
   "metadata": {},
   "outputs": [],
   "source": []
  },
  {
   "cell_type": "code",
   "execution_count": null,
   "id": "435210e6-4cf6-4799-8379-ce1a1851c8d5",
   "metadata": {},
   "outputs": [],
   "source": []
  }
 ],
 "metadata": {
  "kernelspec": {
   "display_name": "Python 3 (ipykernel)",
   "language": "python",
   "name": "python3"
  },
  "language_info": {
   "codemirror_mode": {
    "name": "ipython",
    "version": 3
   },
   "file_extension": ".py",
   "mimetype": "text/x-python",
   "name": "python",
   "nbconvert_exporter": "python",
   "pygments_lexer": "ipython3",
   "version": "3.13.2"
  }
 },
 "nbformat": 4,
 "nbformat_minor": 5
}
